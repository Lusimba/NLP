{
  "nbformat": 4,
  "nbformat_minor": 0,
  "metadata": {
    "colab": {
      "name": "TermDocFreq.ipynb",
      "version": "0.3.2",
      "provenance": [],
      "collapsed_sections": [],
      "include_colab_link": true
    },
    "kernelspec": {
      "name": "python3",
      "display_name": "Python 3"
    },
    "accelerator": "GPU"
  },
  "cells": [
    {
      "cell_type": "markdown",
      "metadata": {
        "id": "view-in-github",
        "colab_type": "text"
      },
      "source": [
        "<a href=\"https://colab.research.google.com/github/Lusimba/NLP/blob/master/TermDocFreq.ipynb\" target=\"_parent\"><img src=\"https://colab.research.google.com/assets/colab-badge.svg\" alt=\"Open In Colab\"/></a>"
      ]
    },
    {
      "cell_type": "code",
      "metadata": {
        "id": "-YYKRJLd4iSy",
        "colab_type": "code",
        "colab": {}
      },
      "source": [
        "import nltk\n",
        "import pandas as pd\n",
        "from nltk.probability import FreqDist\n",
        "from nltk.corpus import stopwords\n",
        "import matplotlib.pyplot as plt"
      ],
      "execution_count": 0,
      "outputs": []
    },
    {
      "cell_type": "markdown",
      "metadata": {
        "id": "9yKIIAKD4oj4",
        "colab_type": "text"
      },
      "source": [
        "#Download the corpus"
      ]
    },
    {
      "cell_type": "code",
      "metadata": {
        "id": "o5FPJ6AG4vOA",
        "colab_type": "code",
        "colab": {
          "base_uri": "https://localhost:8080/",
          "height": 104
        },
        "outputId": "ab231161-61a8-4ce8-ec97-d8a26b52db15"
      },
      "source": [
        "nltk.download('stopwords')\n",
        "nltk.download('gutenberg')"
      ],
      "execution_count": 49,
      "outputs": [
        {
          "output_type": "stream",
          "text": [
            "[nltk_data] Downloading package stopwords to /root/nltk_data...\n",
            "[nltk_data]   Package stopwords is already up-to-date!\n",
            "[nltk_data] Downloading package gutenberg to /root/nltk_data...\n",
            "[nltk_data]   Package gutenberg is already up-to-date!\n"
          ],
          "name": "stdout"
        },
        {
          "output_type": "execute_result",
          "data": {
            "text/plain": [
              "True"
            ]
          },
          "metadata": {
            "tags": []
          },
          "execution_count": 49
        }
      ]
    },
    {
      "cell_type": "markdown",
      "metadata": {
        "id": "z11B6MEi4xI9",
        "colab_type": "text"
      },
      "source": [
        "Define Stopwords"
      ]
    },
    {
      "cell_type": "code",
      "metadata": {
        "id": "_ZLydFtM41gr",
        "colab_type": "code",
        "colab": {}
      },
      "source": [
        "stop_Words = set(stopwords.words('english'))"
      ],
      "execution_count": 0,
      "outputs": []
    },
    {
      "cell_type": "markdown",
      "metadata": {
        "id": "b5KFuWOi42KF",
        "colab_type": "text"
      },
      "source": [
        "#Read the corpus"
      ]
    },
    {
      "cell_type": "code",
      "metadata": {
        "id": "C2lH4Kzw43XF",
        "colab_type": "code",
        "colab": {}
      },
      "source": [
        "words = nltk.Text(nltk.corpus.gutenberg.words('bryant-stories.txt'))"
      ],
      "execution_count": 0,
      "outputs": []
    },
    {
      "cell_type": "markdown",
      "metadata": {
        "id": "_b4bY1k-46Pq",
        "colab_type": "text"
      },
      "source": [
        "#Casefold the words\n"
      ]
    },
    {
      "cell_type": "code",
      "metadata": {
        "id": "eP2eRnqr49-L",
        "colab_type": "code",
        "colab": {}
      },
      "source": [
        "words = [word.lower() for word in words if word.isalpha()]\n",
        "words = [word.lower() for word in words if word not in stop_Words]"
      ],
      "execution_count": 0,
      "outputs": []
    },
    {
      "cell_type": "markdown",
      "metadata": {
        "id": "O4bjRRpE5EnE",
        "colab_type": "text"
      },
      "source": [
        "#Calculate Frequency Distribution"
      ]
    },
    {
      "cell_type": "code",
      "metadata": {
        "id": "OvC9Uba95H6d",
        "colab_type": "code",
        "colab": {}
      },
      "source": [
        "fDist = FreqDist(words)"
      ],
      "execution_count": 0,
      "outputs": []
    },
    {
      "cell_type": "markdown",
      "metadata": {
        "id": "LSU9YdQ6QLLX",
        "colab_type": "text"
      },
      "source": [
        "#Creating a Dictionary"
      ]
    },
    {
      "cell_type": "code",
      "metadata": {
        "id": "30J7c2CMQPHq",
        "colab_type": "code",
        "colab": {}
      },
      "source": [
        "class my_dictionary(dict):\n",
        "    def __init__(self):\n",
        "        self = dict()\n",
        "    def add(self, WordList, Freq):\n",
        "        self[\"Word\"] = WordList\n",
        "        self[\"Frequency\"] = Freq"
      ],
      "execution_count": 0,
      "outputs": []
    },
    {
      "cell_type": "markdown",
      "metadata": {
        "id": "6Q3qGALR5I3D",
        "colab_type": "text"
      },
      "source": [
        "Print your Word Count"
      ]
    },
    {
      "cell_type": "code",
      "metadata": {
        "id": "MgVzFmZu5LyM",
        "colab_type": "code",
        "colab": {
          "base_uri": "https://localhost:8080/",
          "height": 52
        },
        "outputId": "e3575902-8e59-4c43-a504-b86bf3dd2f15"
      },
      "source": [
        "print(\"The total number of words is: {}\".format(len(words))) #Total count\n",
        "print(\"The Unique words are: {}\".format(len(set(words)))) #Unique words"
      ],
      "execution_count": 55,
      "outputs": [
        {
          "output_type": "stream",
          "text": [
            "The total number of words is: 21718\n",
            "The Unique words are: 3688\n"
          ],
          "name": "stdout"
        }
      ]
    },
    {
      "cell_type": "markdown",
      "metadata": {
        "id": "2ZwDC2KWQmUU",
        "colab_type": "text"
      },
      "source": [
        "#Create empty Word and Frequency lists"
      ]
    },
    {
      "cell_type": "code",
      "metadata": {
        "id": "cEXkSJ5NQtLp",
        "colab_type": "code",
        "colab": {}
      },
      "source": [
        "WordList = []\n",
        "Freq = []"
      ],
      "execution_count": 0,
      "outputs": []
    },
    {
      "cell_type": "markdown",
      "metadata": {
        "id": "ufmEMf7iQuxA",
        "colab_type": "text"
      },
      "source": [
        "#Update and print the list using the Pandas DataFrame"
      ]
    },
    {
      "cell_type": "code",
      "metadata": {
        "id": "cXC9r0UmQ1zp",
        "colab_type": "code",
        "colab": {
          "base_uri": "https://localhost:8080/",
          "height": 209
        },
        "outputId": "70fabb1a-bfc8-488b-850b-db58648c7966"
      },
      "source": [
        "for x,v in fDist.most_common(10):\n",
        "    WordList.append(str((x)))\n",
        "    Freq.append(v)\n",
        "\n",
        "table = my_dictionary()\n",
        "table.add(WordList, Freq)\n",
        "data = pd.DataFrame(table)\n",
        "print (data)\n"
      ],
      "execution_count": 57,
      "outputs": [
        {
          "output_type": "stream",
          "text": [
            "     Word  Frequency\n",
            "0  little        597\n",
            "1    said        453\n",
            "2    came        191\n",
            "3     one        183\n",
            "4   could        158\n",
            "5    king        141\n",
            "6    went        122\n",
            "7   would        112\n",
            "8   great        110\n",
            "9     day        107\n"
          ],
          "name": "stdout"
        }
      ]
    },
    {
      "cell_type": "markdown",
      "metadata": {
        "id": "6UMIT2kYSbkS",
        "colab_type": "text"
      },
      "source": [
        "#Plot the frequency"
      ]
    },
    {
      "cell_type": "code",
      "metadata": {
        "id": "Qq7lPoqfSjBn",
        "colab_type": "code",
        "colab": {
          "base_uri": "https://localhost:8080/",
          "height": 282
        },
        "outputId": "a793583e-be2e-4b8a-a814-77d8ba55d396"
      },
      "source": [
        "plt.plot(Freq)\n",
        "plt.ylabel(\"Word Frequency\")\n",
        "plt.xlabel(\"Word Series No.\")\n",
        "plt.show()"
      ],
      "execution_count": 58,
      "outputs": [
        {
          "output_type": "display_data",
          "data": {
            "image/png": "[encoded data removed]",
            "text/plain": [
              "<Figure size 432x288 with 1 Axes>"
            ]
          },
          "metadata": {
            "tags": []
          }
        }
      ]
    },
    {
      "cell_type": "markdown",
      "metadata": {
        "id": "5T1XB-om5OhJ",
        "colab_type": "text"
      },
      "source": [
        "#Create the normalized frequency list"
      ]
    },
    {
      "cell_type": "code",
      "metadata": {
        "id": "dpBj_f3kQ-th",
        "colab_type": "code",
        "colab": {}
      },
      "source": [
        "Normfreq=[]\n"
      ],
      "execution_count": 0,
      "outputs": []
    },
    {
      "cell_type": "code",
      "metadata": {
        "id": "ntqNpJ465T6F",
        "colab_type": "code",
        "colab": {
          "base_uri": "https://localhost:8080/",
          "height": 227
        },
        "outputId": "4b39d8e6-67c9-49b6-b716-60da13346733"
      },
      "source": [
        "print(\"Normalized Outputs\")\n",
        "for x,v in fDist.most_common(10):\n",
        "    Normfreq.append(v/len(fDist))\n",
        "\n",
        "table.add(WordList, Normfreq)\n",
        "Normalized = pd.DataFrame(table)\n",
        "print(Normalized)"
      ],
      "execution_count": 60,
      "outputs": [
        {
          "output_type": "stream",
          "text": [
            "Normalized Outputs\n",
            "     Word  Frequency\n",
            "0  little   0.161876\n",
            "1    said   0.122831\n",
            "2    came   0.051790\n",
            "3     one   0.049620\n",
            "4   could   0.042842\n",
            "5    king   0.038232\n",
            "6    went   0.033080\n",
            "7   would   0.030369\n",
            "8   great   0.029826\n",
            "9     day   0.029013\n"
          ],
          "name": "stdout"
        }
      ]
    },
    {
      "cell_type": "markdown",
      "metadata": {
        "id": "Z6PZL4-qSmYO",
        "colab_type": "text"
      },
      "source": [
        "#Plot the Normalized Frequency"
      ]
    },
    {
      "cell_type": "code",
      "metadata": {
        "id": "VJGoA3hXSrXs",
        "colab_type": "code",
        "colab": {
          "base_uri": "https://localhost:8080/",
          "height": 282
        },
        "outputId": "23e6da44-5ab1-4419-d62b-a6aa168ffcc3"
      },
      "source": [
        "plt.plot(Normfreq)\n",
        "plt.ylabel(\"Word Frequency\")\n",
        "plt.xlabel(\"Word Series No.\")\n",
        "plt.show()"
      ],
      "execution_count": 61,
      "outputs": [
        {
          "output_type": "display_data",
          "data": {
            "image/png": "[encoded data removed]",
            "text/plain": [
              "<Figure size 432x288 with 1 Axes>"
            ]
          },
          "metadata": {
            "tags": []
          }
        }
      ]
    }
  ]
}